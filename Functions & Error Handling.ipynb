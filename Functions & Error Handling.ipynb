{
 "cells": [
  {
   "cell_type": "markdown",
   "id": "4d7d7001-5c3e-43b4-adb2-aea187809a97",
   "metadata": {},
   "source": [
    "### Functions"
   ]
  },
  {
   "cell_type": "code",
   "execution_count": null,
   "id": "86c454ea-26a0-47a4-ad92-2c18e793db92",
   "metadata": {},
   "outputs": [],
   "source": [
    "# Defining a Function\n"
   ]
  },
  {
   "cell_type": "code",
   "execution_count": null,
   "id": "466cec27-143d-45d6-a571-55761502f6af",
   "metadata": {},
   "outputs": [],
   "source": [
    "def add(a,b): #parameters a,b\n"
   ]
  },
  {
   "cell_type": "code",
   "execution_count": null,
   "id": "18863404-703d-4b7c-b9d8-70a23b092f77",
   "metadata": {},
   "outputs": [],
   "source": []
  },
  {
   "cell_type": "code",
   "execution_count": null,
   "id": "4087ced0-b7c4-4c6c-9ffb-799c47cbe8a7",
   "metadata": {},
   "outputs": [],
   "source": [
    "#Default Parameter\n",
    "def multiply(x,y=2):\n",
    "    "
   ]
  },
  {
   "cell_type": "code",
   "execution_count": null,
   "id": "aef6e20c-7af9-4367-a1b9-022190657a5d",
   "metadata": {},
   "outputs": [],
   "source": [
    "def welcome(y='Guest'):\n",
    "    "
   ]
  },
  {
   "cell_type": "code",
   "execution_count": null,
   "id": "102caa69-4703-466b-b500-34ea3dcd2061",
   "metadata": {},
   "outputs": [],
   "source": [
    "# Positional Argument\n",
    "def name(first, middle, last):\n"
   ]
  },
  {
   "cell_type": "code",
   "execution_count": null,
   "id": "44e64e40-a13b-4a2e-b535-a564d4a1bd09",
   "metadata": {},
   "outputs": [],
   "source": []
  },
  {
   "cell_type": "code",
   "execution_count": null,
   "id": "e26261d0-7e33-4f07-a2bf-cb540b7c99a6",
   "metadata": {},
   "outputs": [],
   "source": [
    "# #keyword argument\n",
    "def name(first, middle, last):\n",
    "    "
   ]
  },
  {
   "cell_type": "code",
   "execution_count": null,
   "id": "8cf7a750-21b9-4693-9226-9a3cd2d9ddbc",
   "metadata": {},
   "outputs": [],
   "source": []
  },
  {
   "cell_type": "code",
   "execution_count": null,
   "id": "1447a2fd-d801-4da5-aad9-5d6f6bd27962",
   "metadata": {},
   "outputs": [],
   "source": [
    "def name(first,last):\n",
    "    print(first,last)\n",
    "\n",
    "# name(last='apple','mango')"
   ]
  },
  {
   "cell_type": "code",
   "execution_count": null,
   "id": "23acc878-6883-4e61-9bc4-974a99df4f05",
   "metadata": {},
   "outputs": [],
   "source": [
    "def name(first,last):\n",
    "    print(first,last)\n",
    "\n",
    "# name('mango',last='apple')"
   ]
  },
  {
   "cell_type": "code",
   "execution_count": null,
   "id": "b2dc8cd8-50d3-4294-85e7-19b41a71b606",
   "metadata": {},
   "outputs": [],
   "source": [
    "def name(first,last):\n",
    "    print(first,last)\n",
    "\n",
    "# name('mango',first='apple')"
   ]
  },
  {
   "cell_type": "code",
   "execution_count": null,
   "id": "88a73d59-b37c-4d9c-83b8-df628b61a928",
   "metadata": {},
   "outputs": [],
   "source": [
    "def name(first='coconut',last):\n",
    "    print(first,last)\n",
    "\n",
    "# name(last='fruit')"
   ]
  },
  {
   "cell_type": "code",
   "execution_count": null,
   "id": "01551b68-f672-4f61-a57e-f26cdd35a943",
   "metadata": {},
   "outputs": [],
   "source": [
    "def name(first, last='fruit'):\n",
    "    print(first, last)\n",
    "\n",
    "# name(first='coconut')"
   ]
  },
  {
   "cell_type": "code",
   "execution_count": null,
   "id": "9d0af099-bcf7-4fe6-aa8e-db0a3a18a6f4",
   "metadata": {},
   "outputs": [],
   "source": [
    "# Arbitary number positional arguments\n",
    "\n",
    "\n",
    "# grocery('oil','ghee','sugar','salt')"
   ]
  },
  {
   "cell_type": "code",
   "execution_count": null,
   "id": "ad5a810f-bc70-4692-858c-8c2e93ebadff",
   "metadata": {},
   "outputs": [],
   "source": [
    "# Arbitary number of keyword arguments\n",
    "\n",
    "# bio('ahmed',33,address='Karachi',education='Msc',gender='Male')"
   ]
  },
  {
   "cell_type": "code",
   "execution_count": null,
   "id": "e6a8d911-748c-427c-a95f-5ed390c01d35",
   "metadata": {},
   "outputs": [],
   "source": [
    "# Errors Arbitary number of keyword arguments\n",
    "\n"
   ]
  },
  {
   "cell_type": "code",
   "execution_count": null,
   "id": "a964503b-2b6c-4e56-8968-fcd797ad3689",
   "metadata": {},
   "outputs": [],
   "source": [
    "#Combination of *args and **kwargs\n",
    "\n"
   ]
  },
  {
   "cell_type": "markdown",
   "id": "ec1099d0-dcca-41ce-94a9-b6b439ce747d",
   "metadata": {},
   "source": [
    "#### Write a Python program to convert Pakistani Rupees (PKR) to US Dollars (USD)."
   ]
  },
  {
   "cell_type": "code",
   "execution_count": null,
   "id": "771bd489-d10b-4333-a21d-e6c336f405b5",
   "metadata": {},
   "outputs": [],
   "source": []
  },
  {
   "cell_type": "code",
   "execution_count": null,
   "id": "a171d6ea-2ef8-42c2-ae6c-74b22e60b90b",
   "metadata": {},
   "outputs": [],
   "source": []
  },
  {
   "cell_type": "code",
   "execution_count": null,
   "id": "65b449bc-d599-4394-9ef8-3aff052c0099",
   "metadata": {},
   "outputs": [],
   "source": []
  },
  {
   "cell_type": "code",
   "execution_count": null,
   "id": "9fc38bfb-b534-4f67-95a3-863f8b2466aa",
   "metadata": {},
   "outputs": [],
   "source": [
    "y = 2 #global variable\n",
    "\n",
    "def print_my_y():\n",
    "    y = 3 #local variable\n",
    "    print('inside function:',y)\n",
    "\n",
    "print_my_y()\n",
    "y"
   ]
  },
  {
   "cell_type": "code",
   "execution_count": null,
   "id": "01e413e5-70aa-400a-8244-ae5911f6c010",
   "metadata": {},
   "outputs": [],
   "source": [
    "y = 12 \n",
    "\n",
    "def print_my_y():\n",
    "    global y\n",
    "    y = 2\n",
    "    print('inside function:',y)\n",
    "\n",
    "print_my_y()\n",
    "y"
   ]
  },
  {
   "cell_type": "markdown",
   "id": "601cf1f8-b764-46b9-a223-32e59261e22a",
   "metadata": {},
   "source": [
    "### Nested function"
   ]
  },
  {
   "cell_type": "code",
   "execution_count": null,
   "id": "3d91b291-bb97-4e24-b468-1f05276578ad",
   "metadata": {},
   "outputs": [],
   "source": [
    "def add(a,b):\n",
    "    print(f\"addition: {a + b}\")"
   ]
  },
  {
   "cell_type": "code",
   "execution_count": null,
   "id": "cf1e36b7-ce4f-4d13-a9d4-9ee882958121",
   "metadata": {},
   "outputs": [],
   "source": [
    "def subtract(a,b):\n",
    "    print(f\"subtraction: {a-b}\")"
   ]
  },
  {
   "cell_type": "code",
   "execution_count": null,
   "id": "cb16d531-f07c-4333-a5ce-f66eb8690f16",
   "metadata": {},
   "outputs": [],
   "source": [
    "def calculate(a,b):\n",
    "    add(a,b)\n",
    "    subtract(a,b)\n",
    "\n",
    "calculate(1,4)"
   ]
  },
  {
   "cell_type": "code",
   "execution_count": null,
   "id": "ea6b91c7-3365-4ebb-9867-be8fe4634ddc",
   "metadata": {},
   "outputs": [],
   "source": [
    "# Encapsulation (Hide Helper Logic)\n",
    "\n",
    "def calculate(a, b):\n",
    "    def add(x, y): \n",
    "        return x + y\n",
    "    def subtract(x, y):\n",
    "        return x - y\n",
    "    \n",
    "    print(\"Addition:\", add(a, b))\n",
    "    print(\"Subtraction:\", subtract(a, b))\n",
    "\n",
    "calculate(1, 4)\n"
   ]
  },
  {
   "cell_type": "code",
   "execution_count": null,
   "id": "9c9e9287-16a5-46c9-be61-12ae07b4b8a7",
   "metadata": {},
   "outputs": [],
   "source": [
    "# Avoid Code Repetition\n",
    "\n",
    "def calculate(a, b):\n",
    "    def add(x, y):\n",
    "        return x + y\n",
    "    \n",
    "    result = add(a, b)\n",
    "    print(\"Addition:\", result)\n",
    "    print(\"Square:\", result ** 2)\n",
    "    print(\"Cube:\", result ** 3)\n",
    "\n",
    "calculate(2, 3)\n"
   ]
  },
  {
   "cell_type": "code",
   "execution_count": null,
   "id": "7498c240-4d85-41f2-95e0-6a35ca22834f",
   "metadata": {},
   "outputs": [],
   "source": [
    "# Closures (Remember Values)\n",
    "\n",
    "def calculate(a, b):\n",
    "    def add():\n",
    "        return a + b \n",
    "    \n",
    "    def subtract():\n",
    "        return a - b\n",
    "    \n",
    "    print(\"Addition:\", add()) \n",
    "    print(\"Subtraction:\", subtract())\n",
    "\n",
    "calculate(5, 2)\n"
   ]
  },
  {
   "cell_type": "code",
   "execution_count": null,
   "id": "4f060859-cb4d-4e07-bf6a-54e4be92a509",
   "metadata": {},
   "outputs": [],
   "source": [
    "# Dynamic Function Return (Callbacks)\n",
    "\n",
    "def calculate(operation):\n",
    "    def add(a, b): return a + b\n",
    "    def subtract(a, b): return a - b\n",
    "    \n",
    "    if operation == \"add\":\n",
    "        return add\n",
    "    else:\n",
    "        return subtract\n",
    "\n",
    "op = calculate(\"add\")\n",
    "print(op(7, 3))         \n"
   ]
  },
  {
   "cell_type": "markdown",
   "id": "cf0e26b8-f7b6-42d7-ac86-945551899ba0",
   "metadata": {},
   "source": [
    "### Error Handling\n",
    "\n",
    "try, except, else, finally\n",
    "\n"
   ]
  },
  {
   "cell_type": "code",
   "execution_count": null,
   "id": "aba8673a-d840-4e35-b37b-4063055cb137",
   "metadata": {},
   "outputs": [],
   "source": [
    "print(1/0)\n"
   ]
  },
  {
   "cell_type": "code",
   "execution_count": null,
   "id": "0e46e172-1521-4d54-ada0-541c69f651f0",
   "metadata": {},
   "outputs": [],
   "source": [
    "print(1+3)\n",
    "print(1/0)\n",
    "print(2+5)"
   ]
  },
  {
   "cell_type": "code",
   "execution_count": null,
   "id": "0fdb3100-910b-4919-bb74-7f43de499916",
   "metadata": {},
   "outputs": [],
   "source": [
    "try:\n",
    "    print(1/0)\n",
    "except:\n",
    "    print('error')"
   ]
  },
  {
   "cell_type": "code",
   "execution_count": null,
   "id": "7b9903ec-aaab-460e-913d-29f095c512b3",
   "metadata": {},
   "outputs": [],
   "source": [
    "print(1+3)\n",
    "\n",
    "try:\n",
    "    print(1/0)\n",
    "except:\n",
    "    print('error')\n",
    "\n",
    "print(2+5)"
   ]
  },
  {
   "cell_type": "code",
   "execution_count": null,
   "id": "ee4d5b0a-36bc-48c4-8f50-a9b44d2f24c0",
   "metadata": {},
   "outputs": [],
   "source": [
    "try:\n",
    "    print(1+5)\n",
    "except:\n",
    "    print('error')"
   ]
  },
  {
   "cell_type": "code",
   "execution_count": null,
   "id": "f25a2039-22ae-4ba7-ac28-7ac395210349",
   "metadata": {},
   "outputs": [],
   "source": [
    "try:\n",
    "    print(1/0)\n",
    "except ZeroDivisionError:\n",
    "    print('error')"
   ]
  },
  {
   "cell_type": "code",
   "execution_count": null,
   "id": "7f6250fb-415b-4ea4-afce-98f67b07a684",
   "metadata": {},
   "outputs": [],
   "source": [
    "print(1/'a')\n"
   ]
  },
  {
   "cell_type": "code",
   "execution_count": null,
   "id": "ef6a3ec5-ad9c-4651-824e-455ab8dddfce",
   "metadata": {},
   "outputs": [],
   "source": [
    "try:\n",
    "    print(1/'a')\n",
    "except TypeError:\n",
    "    print('error')"
   ]
  },
  {
   "cell_type": "code",
   "execution_count": 4,
   "id": "66f43740-27b8-41d1-8d7d-480c92a8a939",
   "metadata": {},
   "outputs": [
    {
     "name": "stdin",
     "output_type": "stream",
     "text": [
      "enter num1: 1\n",
      "enter num2: s\n"
     ]
    },
    {
     "name": "stdout",
     "output_type": "stream",
     "text": [
      "invalid integer\n"
     ]
    }
   ],
   "source": [
    "try:\n",
    "    x = int(input(\"enter num1:\"))\n",
    "    y = int(input(\"enter num2:\"))\n",
    "\n",
    "    result = x/y\n",
    "    print(result)\n",
    "\n",
    "except ZeroDivisionError:\n",
    "    print('cannot divided by zero')\n",
    "except ValueError:\n",
    "    print('invalid integer')"
   ]
  },
  {
   "cell_type": "code",
   "execution_count": 6,
   "id": "abe329fe-c197-495a-9573-726d24793025",
   "metadata": {},
   "outputs": [
    {
     "name": "stdin",
     "output_type": "stream",
     "text": [
      "enter num1: 2\n",
      "enter num2: 2\n"
     ]
    },
    {
     "name": "stdout",
     "output_type": "stream",
     "text": [
      "1.0\n"
     ]
    }
   ],
   "source": [
    "#try\n",
    "#except\n",
    "#else\n",
    "try:\n",
    "    x = int(input(\"enter num1:\"))\n",
    "    y = int(input(\"enter num2:\"))\n",
    "\n",
    "    result = x/y\n",
    "    \n",
    "except ZeroDivisionError:\n",
    "    print('cannot divided by zero')\n",
    "except ValueError:\n",
    "    print('invalid integer')\n",
    "else: #optional\n",
    "    print(result)"
   ]
  },
  {
   "cell_type": "code",
   "execution_count": 7,
   "id": "e433bd7e-235e-42aa-9471-575a5b0737bc",
   "metadata": {},
   "outputs": [
    {
     "name": "stdin",
     "output_type": "stream",
     "text": [
      "enter num1: 2\n",
      "enter num2: 2\n"
     ]
    },
    {
     "name": "stdout",
     "output_type": "stream",
     "text": [
      "1.0\n",
      "program executed\n"
     ]
    }
   ],
   "source": [
    "#try\n",
    "#except\n",
    "#else\n",
    "#finally\n",
    "try:\n",
    "    x = int(input(\"enter num1:\"))\n",
    "    y = int(input(\"enter num2:\"))\n",
    "\n",
    "    result = x/y\n",
    "    \n",
    "except ZeroDivisionError:\n",
    "    print('cannot divided by zero')\n",
    "except ValueError:\n",
    "    print('invalid integer')\n",
    "else: #optional\n",
    "    print(result)\n",
    "finally:\n",
    "    print('program executed')"
   ]
  },
  {
   "cell_type": "markdown",
   "id": "3b793661-910d-4fdf-b0b2-cec9ce309d16",
   "metadata": {},
   "source": [
    "#### Write a program that checks if a number is even or odd. If the user inputs a non-numeric value, display an error message. If the number is even, print \"Even\", otherwise print \"Odd\". Finally, always print \"Check complete\"."
   ]
  },
  {
   "cell_type": "code",
   "execution_count": null,
   "id": "e1df35c5-7f36-44ce-810c-af8d55e5d512",
   "metadata": {},
   "outputs": [],
   "source": []
  }
 ],
 "metadata": {
  "kernelspec": {
   "display_name": "Python 3 (ipykernel)",
   "language": "python",
   "name": "python3"
  },
  "language_info": {
   "codemirror_mode": {
    "name": "ipython",
    "version": 3
   },
   "file_extension": ".py",
   "mimetype": "text/x-python",
   "name": "python",
   "nbconvert_exporter": "python",
   "pygments_lexer": "ipython3",
   "version": "3.12.7"
  }
 },
 "nbformat": 4,
 "nbformat_minor": 5
}
