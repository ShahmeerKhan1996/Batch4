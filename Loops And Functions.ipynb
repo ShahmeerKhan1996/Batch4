{
 "cells": [
  {
   "cell_type": "code",
   "execution_count": 25,
   "id": "d9356206-2def-4041-a34e-16ae992bb1cd",
   "metadata": {},
   "outputs": [],
   "source": [
    "student_scores = {\n",
    "    \"Alice\": 85,\n",
    "    \"Bob\": 92,\n",
    "    \"Charlie\": 78,\n",
    "    \"David\": 90\n",
    "}"
   ]
  },
  {
   "cell_type": "code",
   "execution_count": 26,
   "id": "1d5a118b-3aff-4871-beb4-dea80cc2a2eb",
   "metadata": {},
   "outputs": [
    {
     "data": {
      "text/plain": [
       "{'Alice': 85, 'Bob': 92, 'Charlie': 78, 'David': 90}"
      ]
     },
     "execution_count": 26,
     "metadata": {},
     "output_type": "execute_result"
    }
   ],
   "source": [
    "student_scores"
   ]
  },
  {
   "cell_type": "code",
   "execution_count": 27,
   "id": "af76cb0f-afad-4246-9fc1-552aff1e20e8",
   "metadata": {},
   "outputs": [
    {
     "name": "stdout",
     "output_type": "stream",
     "text": [
      "Alice\n",
      "Bob\n",
      "Charlie\n",
      "David\n"
     ]
    }
   ],
   "source": [
    "for student in student_scores:\n",
    "    print(student)"
   ]
  },
  {
   "cell_type": "code",
   "execution_count": 29,
   "id": "20854ecf-a195-4842-a0d2-43d708ea30fb",
   "metadata": {},
   "outputs": [
    {
     "name": "stdout",
     "output_type": "stream",
     "text": [
      "Alice 85\n",
      "Bob 92\n",
      "Charlie 78\n",
      "David 90\n"
     ]
    }
   ],
   "source": [
    "for student,info in student_scores.items():\n",
    "    print(student, info)"
   ]
  },
  {
   "cell_type": "code",
   "execution_count": 30,
   "id": "93c73637-158c-4af5-9d1d-45370178ea94",
   "metadata": {},
   "outputs": [],
   "source": [
    "fruits = [\"apple\", \"banana\", \"cherry\", \"date\", \"elderberry\"]"
   ]
  },
  {
   "cell_type": "code",
   "execution_count": 31,
   "id": "f8447bd3-9676-4bd2-b416-cad51fa4f16d",
   "metadata": {},
   "outputs": [
    {
     "name": "stdout",
     "output_type": "stream",
     "text": [
      "apple\n",
      "banana\n",
      "cherry\n",
      "date\n",
      "elderberry\n"
     ]
    }
   ],
   "source": [
    "for i in fruits:\n",
    "    print(i)"
   ]
  },
  {
   "cell_type": "code",
   "execution_count": 32,
   "id": "1a431d29-a03b-45e4-b078-e465731357ab",
   "metadata": {},
   "outputs": [],
   "source": [
    "products = [(\"Laptop\", 800), (\"Phone\", 500), (\"Tablet\", 300)]\n"
   ]
  },
  {
   "cell_type": "code",
   "execution_count": 33,
   "id": "059cd9de-8ce4-4d09-ab8c-0764934612af",
   "metadata": {},
   "outputs": [
    {
     "name": "stdout",
     "output_type": "stream",
     "text": [
      "('Laptop', 800)\n",
      "('Phone', 500)\n",
      "('Tablet', 300)\n"
     ]
    }
   ],
   "source": [
    "for x in products:\n",
    "    print(x)"
   ]
  },
  {
   "cell_type": "code",
   "execution_count": 45,
   "id": "b77630b9-fd60-4262-955e-7e75231cdc97",
   "metadata": {},
   "outputs": [],
   "source": [
    "# Dummy data\n",
    "class_data = {\n",
    "    \"students\": [\"Alice\", \"Bob\", \"Charlie\"],\n",
    "    \"grades\": [85, 92, 78],\n",
    "    \"cities\": [\"Karachi\", \"Lahore\", \"Islamabad\"]\n",
    "}"
   ]
  },
  {
   "cell_type": "code",
   "execution_count": 46,
   "id": "973739cb-2323-4740-9802-f77160a60d39",
   "metadata": {},
   "outputs": [
    {
     "name": "stdout",
     "output_type": "stream",
     "text": [
      "students\n",
      "grades\n",
      "cities\n"
     ]
    }
   ],
   "source": [
    "for j in class_data:\n",
    "    print(j)"
   ]
  },
  {
   "cell_type": "code",
   "execution_count": 47,
   "id": "3505bdba-dff6-4e5a-99c8-ec5040ac84ba",
   "metadata": {},
   "outputs": [
    {
     "name": "stdout",
     "output_type": "stream",
     "text": [
      "students ['Alice', 'Bob', 'Charlie']\n",
      "grades [85, 92, 78]\n",
      "cities ['Karachi', 'Lahore', 'Islamabad']\n"
     ]
    }
   ],
   "source": [
    "for l,j in class_data.items():\n",
    "    print(l,j)"
   ]
  },
  {
   "cell_type": "code",
   "execution_count": 53,
   "id": "3a763d8d-186f-4df2-837d-a7f9a9f075d2",
   "metadata": {},
   "outputs": [
    {
     "name": "stdout",
     "output_type": "stream",
     "text": [
      "Apple info:\n",
      "  price: 100\n",
      "  quantity: 50\n",
      "Banana info:\n",
      "  price: 40\n",
      "  quantity: 100\n",
      "Cherry info:\n",
      "  price: 150\n",
      "  quantity: 30\n"
     ]
    }
   ],
   "source": [
    "fruits = {\n",
    "    \"Apple\": {\"price\": 100, \"quantity\": 50},\n",
    "    \"Banana\": {\"price\": 40, \"quantity\": 100},\n",
    "    \"Cherry\": {\"price\": 150, \"quantity\": 30}\n",
    "}\n",
    "\n",
    "for fruit, info in fruits.items():\n",
    "    print(f\"{fruit} info:\")\n",
    "    for key, value in info.items():\n",
    "        print(f\"  {key}: {value}\")\n"
   ]
  },
  {
   "cell_type": "code",
   "execution_count": 55,
   "id": "67fe085c-0ab7-4723-acce-0d814ffa30f1",
   "metadata": {},
   "outputs": [
    {
     "name": "stdout",
     "output_type": "stream",
     "text": [
      "1\n",
      "2\n",
      "3\n",
      "4\n",
      "5\n",
      "6\n",
      "7\n"
     ]
    }
   ],
   "source": [
    "for r in range(1,8):\n",
    "    print(r)"
   ]
  },
  {
   "cell_type": "code",
   "execution_count": 56,
   "id": "be731704-c154-41ef-97af-ac0bed2d9d57",
   "metadata": {},
   "outputs": [
    {
     "name": "stdout",
     "output_type": "stream",
     "text": [
      "1\n",
      "2\n",
      "4\n",
      "5\n",
      "6\n",
      "7\n"
     ]
    }
   ],
   "source": [
    "for r in range(1,8):\n",
    "    if r == 3:\n",
    "        continue\n",
    "    else:\n",
    "        print(r)"
   ]
  },
  {
   "cell_type": "code",
   "execution_count": 69,
   "id": "6bd23393-bfd7-4c6e-9df4-27edd5dad638",
   "metadata": {},
   "outputs": [
    {
     "name": "stdout",
     "output_type": "stream",
     "text": [
      "Alice has Math score: 90\n",
      "Charlie has Math score: 80\n"
     ]
    }
   ],
   "source": [
    "students = {\n",
    "    \"Alice\": {\"Math\": 90, \"English\": 85},\n",
    "    \"Bob\": {\"Math\": 70, \"English\": 88},\n",
    "    \"Charlie\": {\"Math\": 80, \"English\": 78}\n",
    "}\n",
    "\n",
    "for name in students:\n",
    "    math_score = students[name][\"Math\"]\n",
    "    if math_score < 80:\n",
    "        continue\n",
    "    print(f\"{name} has Math score: {math_score}\")\n"
   ]
  },
  {
   "cell_type": "code",
   "execution_count": 82,
   "id": "b47c6eb2-c667-471f-a48a-a4ac40cfe0c6",
   "metadata": {},
   "outputs": [],
   "source": [
    "students = [\"Alice\", \"Bob\", \"Charlie\"]\n",
    "subjects = [\"Math\", \"English\", \"Science\"]"
   ]
  },
  {
   "cell_type": "code",
   "execution_count": 84,
   "id": "bf7b9d7c-f65d-4477-83b4-b5603d4a5292",
   "metadata": {},
   "outputs": [
    {
     "name": "stdout",
     "output_type": "stream",
     "text": [
      "Alice\n",
      "Bob\n",
      "Charlie\n"
     ]
    }
   ],
   "source": [
    "for student in students:\n",
    "    print(student)"
   ]
  },
  {
   "cell_type": "code",
   "execution_count": 87,
   "id": "e487ec2c-a36a-4ae4-94bc-ca7e6ccca48d",
   "metadata": {},
   "outputs": [
    {
     "name": "stdout",
     "output_type": "stream",
     "text": [
      "Alice\n",
      "Math\n",
      "English\n",
      "Science\n",
      "Bob\n",
      "Math\n",
      "English\n",
      "Science\n",
      "Charlie\n",
      "Math\n",
      "English\n",
      "Science\n"
     ]
    }
   ],
   "source": [
    "for student in students:\n",
    "    print(student)\n",
    "    for subject in subjects:\n",
    "        print(subject)"
   ]
  },
  {
   "cell_type": "code",
   "execution_count": 90,
   "id": "70a34516-9c1d-4978-9d25-caaec1baf3a5",
   "metadata": {},
   "outputs": [
    {
     "name": "stdout",
     "output_type": "stream",
     "text": [
      "Alice\n",
      "Math\n",
      "English\n",
      "Science\n",
      "-\n",
      "Bob\n",
      "Math\n",
      "English\n",
      "Science\n",
      "-\n",
      "Charlie\n",
      "Math\n",
      "English\n",
      "Science\n",
      "-\n"
     ]
    }
   ],
   "source": [
    "for student in students:\n",
    "    print(student)\n",
    "    for subject in subjects:\n",
    "        print(subject)\n",
    "    print(\"-\")"
   ]
  },
  {
   "cell_type": "code",
   "execution_count": 92,
   "id": "0f7eaacd-aeda-4513-a7ef-827a683d3f91",
   "metadata": {},
   "outputs": [
    {
     "name": "stdout",
     "output_type": "stream",
     "text": [
      "['Monday', 'Tuesday', 'Wednesday', 'Thursday', 'Friday']\n",
      "['9AM-10AM', '10AM-11AM', '11AM-12PM']\n"
     ]
    }
   ],
   "source": [
    "week_days = ['Monday', 'Tuesday', 'Wednesday', 'Thursday', 'Friday']\n",
    "time_slots = ['9AM-10AM', '10AM-11AM', '11AM-12PM']\n",
    "print(week_days)\n",
    "print(time_slots)"
   ]
  },
  {
   "cell_type": "code",
   "execution_count": 93,
   "id": "dbbc1fab-352b-4635-a80e-da66dd79aa8c",
   "metadata": {},
   "outputs": [
    {
     "name": "stdout",
     "output_type": "stream",
     "text": [
      "Schedule for: Monday\n",
      "Class at: 9AM-10AM\n",
      "Class at: 10AM-11AM\n",
      "Class at: 11AM-12PM\n",
      "\n",
      "Schedule for: Tuesday\n",
      "Class at: 9AM-10AM\n",
      "Class at: 10AM-11AM\n",
      "Class at: 11AM-12PM\n",
      "\n",
      "Schedule for: Wednesday\n",
      "Class at: 9AM-10AM\n",
      "Class at: 10AM-11AM\n",
      "Class at: 11AM-12PM\n",
      "\n",
      "Schedule for: Thursday\n",
      "Class at: 9AM-10AM\n",
      "Class at: 10AM-11AM\n",
      "Class at: 11AM-12PM\n",
      "\n",
      "Schedule for: Friday\n",
      "Class at: 9AM-10AM\n",
      "Class at: 10AM-11AM\n",
      "Class at: 11AM-12PM\n",
      "\n"
     ]
    }
   ],
   "source": [
    "for week_day in week_days:\n",
    "    print(f\"Schedule for: {week_day}\")\n",
    "    for slot in time_slots:\n",
    "        print(f\"Class at: {slot}\")\n",
    "    print()"
   ]
  },
  {
   "cell_type": "code",
   "execution_count": 88,
   "id": "b66d3f8b-a774-465b-bfc9-036251daefdd",
   "metadata": {},
   "outputs": [
    {
     "name": "stdout",
     "output_type": "stream",
     "text": [
      "Alice\n",
      "Bob\n",
      "Charlie\n"
     ]
    }
   ],
   "source": [
    "for student in students:\n",
    "    print(student)"
   ]
  },
  {
   "cell_type": "code",
   "execution_count": 70,
   "id": "50bf8f3f-37b9-41b5-a345-f146787dd626",
   "metadata": {},
   "outputs": [
    {
     "name": "stdout",
     "output_type": "stream",
     "text": [
      "*\n",
      "*\n",
      "*\n",
      "*\n",
      "*\n",
      "*\n",
      "*\n"
     ]
    }
   ],
   "source": [
    "for i in range(1,8):\n",
    "    print('*')"
   ]
  },
  {
   "cell_type": "code",
   "execution_count": 71,
   "id": "5bdd5130-db97-4c8f-a2f3-c079314a4908",
   "metadata": {},
   "outputs": [
    {
     "name": "stdout",
     "output_type": "stream",
     "text": [
      "* * * * * * * "
     ]
    }
   ],
   "source": [
    "for i in range(1,8):\n",
    "    print('*', end=\" \")"
   ]
  },
  {
   "cell_type": "code",
   "execution_count": 91,
   "id": "d6440991-3188-4ddd-9471-3bf7a49dff2e",
   "metadata": {},
   "outputs": [
    {
     "name": "stdout",
     "output_type": "stream",
     "text": [
      "* * * * * * * \n",
      "* * * * * * * \n",
      "* * * * * * * \n",
      "* * * * * * * \n",
      "* * * * * * * \n",
      "* * * * * * * \n",
      "* * * * * * * \n"
     ]
    }
   ],
   "source": [
    "for i in range(1,8):\n",
    "    for x in range(1,8):\n",
    "        print('*',end=\" \")\n",
    "    print()"
   ]
  },
  {
   "cell_type": "code",
   "execution_count": 107,
   "id": "025bfdb5-4e44-4d2d-8ae3-2a31f6653d60",
   "metadata": {},
   "outputs": [
    {
     "name": "stdout",
     "output_type": "stream",
     "text": [
      "hello world\n",
      "hello world\n",
      "hello world\n",
      "hello world\n",
      "hello world\n"
     ]
    }
   ],
   "source": [
    "i = 5\n",
    "\n",
    "while i > 0:\n",
    "    print('hello world')\n",
    "    i -= 1"
   ]
  },
  {
   "cell_type": "code",
   "execution_count": 110,
   "id": "742e32c8-6abb-4a75-a76d-2fe40acad8e8",
   "metadata": {},
   "outputs": [
    {
     "name": "stdout",
     "output_type": "stream",
     "text": [
      "Alice\n",
      "Bob\n",
      "Charlie\n",
      "David\n"
     ]
    }
   ],
   "source": [
    "names = [\"Alice\", \"Bob\", \"Charlie\", \"David\"]\n",
    "i = 0\n",
    "\n",
    "while len(names) > i:\n",
    "    print(names[i])\n",
    "    i += 1"
   ]
  },
  {
   "cell_type": "code",
   "execution_count": 116,
   "id": "4e6595de-06cb-4e41-844b-6a733b342f5d",
   "metadata": {},
   "outputs": [
    {
     "name": "stdout",
     "output_type": "stream",
     "text": [
      "Alice's scores:\n",
      "  80\n",
      "  90\n",
      "  85\n",
      "Bob's scores:\n",
      "  80\n",
      "  90\n",
      "  85\n",
      "Charlie's scores:\n",
      "  80\n",
      "  90\n",
      "  85\n"
     ]
    }
   ],
   "source": [
    "students = [\"Alice\", \"Bob\", \"Charlie\"]\n",
    "scores = [80, 90, 85]\n",
    "\n",
    "i = 0\n",
    "while i < len(students):        # Outer loop: go through each student\n",
    "    print(f\"{students[i]}'s scores:\")\n",
    "    \n",
    "    j = 0\n",
    "    while j < len(scores):      # Inner loop: print each score\n",
    "        print(\" \", scores[j])\n",
    "        j += 1\n",
    "    \n",
    "    i += 1\n"
   ]
  },
  {
   "cell_type": "code",
   "execution_count": 120,
   "id": "4db8730e-e20b-405b-aeb5-dd74825e8276",
   "metadata": {},
   "outputs": [
    {
     "name": "stdout",
     "output_type": "stream",
     "text": [
      "Alice's scores:\n",
      "Bob's scores:\n",
      "Charlie's scores:\n"
     ]
    }
   ],
   "source": [
    "students = [\"Alice\", \"Bob\", \"Charlie\"]\n",
    "i = 0\n",
    "while i < len(students):\n",
    "    print(f\"{students[i]}'s scores:\")\n",
    "    i += 1"
   ]
  },
  {
   "cell_type": "code",
   "execution_count": 122,
   "id": "fbe13e3e-133a-4301-b5e1-ca21b587b2db",
   "metadata": {},
   "outputs": [
    {
     "name": "stdout",
     "output_type": "stream",
     "text": [
      "80\n",
      "90\n",
      "85\n"
     ]
    }
   ],
   "source": [
    "scores = [80, 90, 85]\n",
    "j = 0\n",
    "while j < len(scores):\n",
    "    print(scores[j])\n",
    "    j += 1"
   ]
  },
  {
   "cell_type": "code",
   "execution_count": 124,
   "id": "4189d300-0907-4636-a312-8dcc488827fd",
   "metadata": {},
   "outputs": [
    {
     "name": "stdout",
     "output_type": "stream",
     "text": [
      "Alice's scores:\n",
      "80\n",
      "90\n",
      "85\n",
      "Bob's scores:\n",
      "80\n",
      "90\n",
      "85\n",
      "Charlie's scores:\n",
      "80\n",
      "90\n",
      "85\n"
     ]
    }
   ],
   "source": [
    "students = [\"Alice\", \"Bob\", \"Charlie\"]\n",
    "scores = [80, 90, 85]\n",
    "\n",
    "i = 0\n",
    "while i < len(students):        # Outer loop: go through each student\n",
    "    print(f\"{students[i]}'s scores:\")\n",
    "    \n",
    "    j = 0\n",
    "    while j < len(scores):      # Inner loop: print each score\n",
    "        print(scores[j])\n",
    "        j += 1\n",
    "    i += 1\n"
   ]
  },
  {
   "cell_type": "markdown",
   "id": "4d7d7001-5c3e-43b4-adb2-aea187809a97",
   "metadata": {},
   "source": [
    "### Functions"
   ]
  },
  {
   "cell_type": "code",
   "execution_count": 129,
   "id": "86c454ea-26a0-47a4-ad92-2c18e793db92",
   "metadata": {},
   "outputs": [
    {
     "name": "stdout",
     "output_type": "stream",
     "text": [
      "my first function\n",
      "congratulation\n",
      "great\n"
     ]
    }
   ],
   "source": [
    "# Defining a Function\n",
    "#sytax\n",
    "def my_func(): #initialize\n",
    "    print('my first function') #action\n",
    "    print('congratulation')\n",
    "    print('great')\n",
    "\n",
    "my_func() #calling function"
   ]
  },
  {
   "cell_type": "code",
   "execution_count": 132,
   "id": "466cec27-143d-45d6-a571-55761502f6af",
   "metadata": {},
   "outputs": [],
   "source": [
    "def add(a,b): #parameters a,b\n",
    "    print(a+b)"
   ]
  },
  {
   "cell_type": "code",
   "execution_count": 133,
   "id": "18863404-703d-4b7c-b9d8-70a23b092f77",
   "metadata": {},
   "outputs": [
    {
     "name": "stdout",
     "output_type": "stream",
     "text": [
      "3\n"
     ]
    }
   ],
   "source": [
    "add(1,2)"
   ]
  },
  {
   "cell_type": "code",
   "execution_count": 134,
   "id": "4087ced0-b7c4-4c6c-9ffb-799c47cbe8a7",
   "metadata": {},
   "outputs": [],
   "source": [
    "#Default Parameter\n",
    "def multiply(x,y=2):\n",
    "    print(x*y)"
   ]
  },
  {
   "cell_type": "code",
   "execution_count": 135,
   "id": "11296190-540d-4734-b72a-50542b1b4c70",
   "metadata": {},
   "outputs": [
    {
     "name": "stdout",
     "output_type": "stream",
     "text": [
      "6\n"
     ]
    }
   ],
   "source": [
    "multiply(3)\n"
   ]
  },
  {
   "cell_type": "code",
   "execution_count": 136,
   "id": "aef6e20c-7af9-4367-a1b9-022190657a5d",
   "metadata": {},
   "outputs": [],
   "source": [
    "def welcome(y='Guest'):\n",
    "    print('Hi',y)"
   ]
  },
  {
   "cell_type": "code",
   "execution_count": 137,
   "id": "8dabedd5-7026-4024-9c42-8345edd4431e",
   "metadata": {},
   "outputs": [
    {
     "name": "stdout",
     "output_type": "stream",
     "text": [
      "Hi Guest\n"
     ]
    }
   ],
   "source": [
    "welcome()\n"
   ]
  },
  {
   "cell_type": "code",
   "execution_count": 138,
   "id": "102caa69-4703-466b-b500-34ea3dcd2061",
   "metadata": {},
   "outputs": [],
   "source": [
    "# Positional Argument\n",
    "def name(first, last):\n",
    "    print(last,first)"
   ]
  },
  {
   "cell_type": "code",
   "execution_count": 139,
   "id": "44e64e40-a13b-4a2e-b535-a564d4a1bd09",
   "metadata": {},
   "outputs": [
    {
     "name": "stdout",
     "output_type": "stream",
     "text": [
      "khan ali\n"
     ]
    }
   ],
   "source": [
    "name('ali','khan')"
   ]
  },
  {
   "cell_type": "code",
   "execution_count": 145,
   "id": "46ec2399-d555-4b71-abfb-c2f1e595ddc6",
   "metadata": {},
   "outputs": [
    {
     "name": "stdout",
     "output_type": "stream",
     "text": [
      "2.0\n"
     ]
    }
   ],
   "source": [
    "def div(u,y):\n",
    "    print(y/u)\n",
    "\n",
    "div(2,4)"
   ]
  },
  {
   "cell_type": "code",
   "execution_count": 146,
   "id": "e26261d0-7e33-4f07-a2bf-cb540b7c99a6",
   "metadata": {},
   "outputs": [
    {
     "name": "stdout",
     "output_type": "stream",
     "text": [
      "khan apple\n"
     ]
    }
   ],
   "source": [
    "def name(first, last):\n",
    "    print(first,last)\n",
    "\n",
    "name(last='apple', first='khan')"
   ]
  },
  {
   "cell_type": "code",
   "execution_count": 147,
   "id": "8cf7a750-21b9-4693-9226-9a3cd2d9ddbc",
   "metadata": {},
   "outputs": [
    {
     "name": "stdout",
     "output_type": "stream",
     "text": [
      "james kamal\n"
     ]
    }
   ],
   "source": [
    "name('james','kamal')"
   ]
  },
  {
   "cell_type": "code",
   "execution_count": 148,
   "id": "1447a2fd-d801-4da5-aad9-5d6f6bd27962",
   "metadata": {},
   "outputs": [
    {
     "ename": "SyntaxError",
     "evalue": "positional argument follows keyword argument (2351712794.py, line 4)",
     "output_type": "error",
     "traceback": [
      "\u001b[1;36m  Cell \u001b[1;32mIn[148], line 4\u001b[1;36m\u001b[0m\n\u001b[1;33m    name(last='apple','mango')\u001b[0m\n\u001b[1;37m                             ^\u001b[0m\n\u001b[1;31mSyntaxError\u001b[0m\u001b[1;31m:\u001b[0m positional argument follows keyword argument\n"
     ]
    }
   ],
   "source": [
    "def name(first,last):\n",
    "    print(first,last)\n",
    "\n",
    "name(last='apple','mango')"
   ]
  },
  {
   "cell_type": "code",
   "execution_count": 149,
   "id": "23acc878-6883-4e61-9bc4-974a99df4f05",
   "metadata": {},
   "outputs": [
    {
     "name": "stdout",
     "output_type": "stream",
     "text": [
      "mango apple\n"
     ]
    }
   ],
   "source": [
    "def name(first,last):\n",
    "    print(first,last)\n",
    "\n",
    "name('mango',last='apple')"
   ]
  },
  {
   "cell_type": "code",
   "execution_count": 150,
   "id": "b2dc8cd8-50d3-4294-85e7-19b41a71b606",
   "metadata": {},
   "outputs": [
    {
     "ename": "TypeError",
     "evalue": "name() got multiple values for argument 'first'",
     "output_type": "error",
     "traceback": [
      "\u001b[1;31m---------------------------------------------------------------------------\u001b[0m",
      "\u001b[1;31mTypeError\u001b[0m                                 Traceback (most recent call last)",
      "Cell \u001b[1;32mIn[150], line 4\u001b[0m\n\u001b[0;32m      1\u001b[0m \u001b[38;5;28;01mdef\u001b[39;00m \u001b[38;5;21mname\u001b[39m(first,last):\n\u001b[0;32m      2\u001b[0m     \u001b[38;5;28mprint\u001b[39m(first,last)\n\u001b[1;32m----> 4\u001b[0m name(\u001b[38;5;124m'\u001b[39m\u001b[38;5;124mmango\u001b[39m\u001b[38;5;124m'\u001b[39m,first\u001b[38;5;241m=\u001b[39m\u001b[38;5;124m'\u001b[39m\u001b[38;5;124mapple\u001b[39m\u001b[38;5;124m'\u001b[39m)\n",
      "\u001b[1;31mTypeError\u001b[0m: name() got multiple values for argument 'first'"
     ]
    }
   ],
   "source": [
    "def name(first,last):\n",
    "    print(first,last)\n",
    "\n",
    "name('mango',first='apple')"
   ]
  },
  {
   "cell_type": "code",
   "execution_count": 151,
   "id": "88a73d59-b37c-4d9c-83b8-df628b61a928",
   "metadata": {},
   "outputs": [
    {
     "ename": "SyntaxError",
     "evalue": "parameter without a default follows parameter with a default (1176047238.py, line 1)",
     "output_type": "error",
     "traceback": [
      "\u001b[1;36m  Cell \u001b[1;32mIn[151], line 1\u001b[1;36m\u001b[0m\n\u001b[1;33m    def name(first='coconut',last):\u001b[0m\n\u001b[1;37m                             ^\u001b[0m\n\u001b[1;31mSyntaxError\u001b[0m\u001b[1;31m:\u001b[0m parameter without a default follows parameter with a default\n"
     ]
    }
   ],
   "source": [
    "def name(first='coconut',last):\n",
    "    print(first,last)\n",
    "\n",
    "name(last='fruit')"
   ]
  },
  {
   "cell_type": "code",
   "execution_count": 153,
   "id": "01551b68-f672-4f61-a57e-f26cdd35a943",
   "metadata": {},
   "outputs": [
    {
     "name": "stdout",
     "output_type": "stream",
     "text": [
      "coconut fruit\n"
     ]
    }
   ],
   "source": [
    "def name(first, last='fruit'):\n",
    "    print(first, last)\n",
    "\n",
    "name(first='coconut')"
   ]
  },
  {
   "cell_type": "code",
   "execution_count": 154,
   "id": "9d0af099-bcf7-4fe6-aa8e-db0a3a18a6f4",
   "metadata": {},
   "outputs": [
    {
     "name": "stdout",
     "output_type": "stream",
     "text": [
      "('oil', 'ghee', 'sugar', 'salt')\n"
     ]
    }
   ],
   "source": [
    "# Arbitary number positional arguments\n",
    "def grocery(*args):\n",
    "    print(args)\n",
    "\n",
    "grocery('oil','ghee','sugar','salt')"
   ]
  },
  {
   "cell_type": "code",
   "execution_count": 156,
   "id": "ad5a810f-bc70-4692-858c-8c2e93ebadff",
   "metadata": {},
   "outputs": [
    {
     "name": "stdout",
     "output_type": "stream",
     "text": [
      "ahmed\n",
      "33\n",
      "{'address': 'Karachi', 'education': 'Msc', 'gender': 'Male'}\n"
     ]
    }
   ],
   "source": [
    "# Arbitary number of keyword arguments\n",
    "def bio(name, age, **kwargs):\n",
    "    print(name)\n",
    "    print(age)\n",
    "    print(kwargs)\n",
    "\n",
    "bio('ahmed',33,address='Karachi',education='Msc',gender='Male')"
   ]
  },
  {
   "cell_type": "code",
   "execution_count": 157,
   "id": "e6a8d911-748c-427c-a95f-5ed390c01d35",
   "metadata": {},
   "outputs": [
    {
     "ename": "TypeError",
     "evalue": "'address' is an invalid keyword argument for print()",
     "output_type": "error",
     "traceback": [
      "\u001b[1;31m---------------------------------------------------------------------------\u001b[0m",
      "\u001b[1;31mTypeError\u001b[0m                                 Traceback (most recent call last)",
      "Cell \u001b[1;32mIn[157], line 5\u001b[0m\n\u001b[0;32m      2\u001b[0m \u001b[38;5;28;01mdef\u001b[39;00m \u001b[38;5;21mbio\u001b[39m(\u001b[38;5;241m*\u001b[39m\u001b[38;5;241m*\u001b[39mkwargs):\n\u001b[0;32m      3\u001b[0m     \u001b[38;5;28mprint\u001b[39m(\u001b[38;5;241m*\u001b[39m\u001b[38;5;241m*\u001b[39mkwargs)\n\u001b[1;32m----> 5\u001b[0m bio(address\u001b[38;5;241m=\u001b[39m\u001b[38;5;124m'\u001b[39m\u001b[38;5;124mKarachi\u001b[39m\u001b[38;5;124m'\u001b[39m,education\u001b[38;5;241m=\u001b[39m\u001b[38;5;124m'\u001b[39m\u001b[38;5;124mMsc\u001b[39m\u001b[38;5;124m'\u001b[39m,gender\u001b[38;5;241m=\u001b[39m\u001b[38;5;124m'\u001b[39m\u001b[38;5;124mMale\u001b[39m\u001b[38;5;124m'\u001b[39m)\n",
      "Cell \u001b[1;32mIn[157], line 3\u001b[0m, in \u001b[0;36mbio\u001b[1;34m(**kwargs)\u001b[0m\n\u001b[0;32m      2\u001b[0m \u001b[38;5;28;01mdef\u001b[39;00m \u001b[38;5;21mbio\u001b[39m(\u001b[38;5;241m*\u001b[39m\u001b[38;5;241m*\u001b[39mkwargs):\n\u001b[1;32m----> 3\u001b[0m     \u001b[38;5;28mprint\u001b[39m(\u001b[38;5;241m*\u001b[39m\u001b[38;5;241m*\u001b[39mkwargs)\n",
      "\u001b[1;31mTypeError\u001b[0m: 'address' is an invalid keyword argument for print()"
     ]
    }
   ],
   "source": [
    "# Arbitary number of keyword arguments\n",
    "def bio(**kwargs):\n",
    "    print(**kwargs)\n",
    "\n",
    "bio(address='Karachi',education='Msc',gender='Male')"
   ]
  },
  {
   "cell_type": "code",
   "execution_count": 158,
   "id": "a964503b-2b6c-4e56-8968-fcd797ad3689",
   "metadata": {},
   "outputs": [
    {
     "name": "stdout",
     "output_type": "stream",
     "text": [
      "positional arguments ('ahmed', 22, 'clifton')\n",
      "keyword arguments {'gender': 'Male', 'Salary': 20000000}\n"
     ]
    }
   ],
   "source": [
    "#Combination of *args and **kwargs\n",
    "def combo(*args, **kwargs):\n",
    "    print('positional arguments', args)\n",
    "    print('keyword arguments', kwargs)\n",
    "\n",
    "combo('ahmed',22,'clifton',gender='Male',Salary=20000000)"
   ]
  },
  {
   "cell_type": "code",
   "execution_count": 159,
   "id": "77f6ae42-3095-4f8d-8589-ab772b72f3f3",
   "metadata": {},
   "outputs": [
    {
     "ename": "SyntaxError",
     "evalue": "arguments cannot follow var-keyword argument (3391732267.py, line 1)",
     "output_type": "error",
     "traceback": [
      "\u001b[1;36m  Cell \u001b[1;32mIn[159], line 1\u001b[1;36m\u001b[0m\n\u001b[1;33m    def combo(**kwargs,*args):\u001b[0m\n\u001b[1;37m                       ^\u001b[0m\n\u001b[1;31mSyntaxError\u001b[0m\u001b[1;31m:\u001b[0m arguments cannot follow var-keyword argument\n"
     ]
    }
   ],
   "source": [
    "def combo(**kwargs,*args):\n",
    "    print('positional arguments', args)\n",
    "    print('keyword arguments', kwargs)\n",
    "\n",
    "combo('ahmed',22,'clifton',gender='Male',Salary=20000000)"
   ]
  },
  {
   "cell_type": "code",
   "execution_count": null,
   "id": "43b0b477-68d9-462e-8697-760bf9674258",
   "metadata": {},
   "outputs": [],
   "source": []
  },
  {
   "cell_type": "code",
   "execution_count": null,
   "id": "5a1844dc-2bba-4ce1-893a-461fa9140d2a",
   "metadata": {},
   "outputs": [],
   "source": []
  },
  {
   "cell_type": "code",
   "execution_count": null,
   "id": "016d8476-139c-413a-a497-b2752ae66c17",
   "metadata": {},
   "outputs": [],
   "source": []
  }
 ],
 "metadata": {
  "kernelspec": {
   "display_name": "Python 3 (ipykernel)",
   "language": "python",
   "name": "python3"
  },
  "language_info": {
   "codemirror_mode": {
    "name": "ipython",
    "version": 3
   },
   "file_extension": ".py",
   "mimetype": "text/x-python",
   "name": "python",
   "nbconvert_exporter": "python",
   "pygments_lexer": "ipython3",
   "version": "3.12.7"
  }
 },
 "nbformat": 4,
 "nbformat_minor": 5
}
